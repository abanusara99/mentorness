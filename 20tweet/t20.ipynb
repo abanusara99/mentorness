{
 "cells": [
  {
   "cell_type": "markdown",
   "id": "ee9cde97",
   "metadata": {},
   "source": [
    "# import the  code "
   ]
  },
  {
   "cell_type": "code",
   "execution_count": 3,
   "id": "53475817",
   "metadata": {},
   "outputs": [],
   "source": [
    "import numpy as np\n",
    "import pandas as pd\n",
    "from matplotlib import pyplot as plt\n",
    "import seaborn as sms"
   ]
  },
  {
   "cell_type": "code",
   "execution_count": 5,
   "id": "eeb89002",
   "metadata": {},
   "outputs": [],
   "source": [
    "# Replace 'T20_Worldcup_tweets.xlsx' with the actual name of your Excel file\n",
    "data = pd.read_excel('T20_Worldcup_tweets.xlsx')\n"
   ]
  },
  {
   "cell_type": "code",
   "execution_count": 8,
   "id": "708150cb",
   "metadata": {},
   "outputs": [
    {
     "name": "stdout",
     "output_type": "stream",
     "text": [
      "<class 'pandas.core.frame.DataFrame'>\n",
      "RangeIndex: 430383 entries, 0 to 430382\n",
      "Data columns (total 13 columns):\n",
      " #   Column            Non-Null Count   Dtype  \n",
      "---  ------            --------------   -----  \n",
      " 0   user_name         430014 non-null  object \n",
      " 1   user_location     323089 non-null  object \n",
      " 2   user_description  400116 non-null  object \n",
      " 3   user_created      430381 non-null  object \n",
      " 4   user_followers    430380 non-null  float64\n",
      " 5   user_friends      430380 non-null  float64\n",
      " 6   user_favourites   430380 non-null  float64\n",
      " 7   user_verified     430380 non-null  float64\n",
      " 8   date              430380 non-null  object \n",
      " 9   text              430380 non-null  object \n",
      " 10  hashtags          429971 non-null  object \n",
      " 11  source            430379 non-null  object \n",
      " 12  is_retweet        430379 non-null  float64\n",
      "dtypes: float64(5), object(8)\n",
      "memory usage: 42.7+ MB\n"
     ]
    }
   ],
   "source": [
    "# Display basic information about the dataset\n",
    "data.info()"
   ]
  },
  {
   "cell_type": "code",
   "execution_count": 9,
   "id": "a087a675",
   "metadata": {},
   "outputs": [
    {
     "data": {
      "text/html": [
       "<div>\n",
       "<style scoped>\n",
       "    .dataframe tbody tr th:only-of-type {\n",
       "        vertical-align: middle;\n",
       "    }\n",
       "\n",
       "    .dataframe tbody tr th {\n",
       "        vertical-align: top;\n",
       "    }\n",
       "\n",
       "    .dataframe thead th {\n",
       "        text-align: right;\n",
       "    }\n",
       "</style>\n",
       "<table border=\"1\" class=\"dataframe\">\n",
       "  <thead>\n",
       "    <tr style=\"text-align: right;\">\n",
       "      <th></th>\n",
       "      <th>user_name</th>\n",
       "      <th>user_location</th>\n",
       "      <th>user_description</th>\n",
       "      <th>user_created</th>\n",
       "      <th>user_followers</th>\n",
       "      <th>user_friends</th>\n",
       "      <th>user_favourites</th>\n",
       "      <th>user_verified</th>\n",
       "      <th>date</th>\n",
       "      <th>text</th>\n",
       "      <th>hashtags</th>\n",
       "      <th>source</th>\n",
       "      <th>is_retweet</th>\n",
       "    </tr>\n",
       "  </thead>\n",
       "  <tbody>\n",
       "    <tr>\n",
       "      <th>0</th>\n",
       "      <td>Prabhudatta Nayak🇮🇳</td>\n",
       "      <td>Balangir, India</td>\n",
       "      <td>Proud to be an Indian ll #contestlover ll #bor...</td>\n",
       "      <td>21/05/10 11:05</td>\n",
       "      <td>134.0</td>\n",
       "      <td>532.0</td>\n",
       "      <td>6625.0</td>\n",
       "      <td>0.0</td>\n",
       "      <td>22/10/21 23:55</td>\n",
       "      <td>@ManappuramMAFIL Done Team \\n@ManappuramMAFIL ...</td>\n",
       "      <td>['GuessAndWin', 'T20WorldCup', 'Contest', 'Cri...</td>\n",
       "      <td>Twitter for Android</td>\n",
       "      <td>0.0</td>\n",
       "    </tr>\n",
       "    <tr>\n",
       "      <th>1</th>\n",
       "      <td>Archisman Mishra</td>\n",
       "      <td>Bhubaneshwar, India</td>\n",
       "      <td>RISING FROM THE ASHES ENGINEER,GAMER,FOODY,POK...</td>\n",
       "      <td>10/12/15 18:43</td>\n",
       "      <td>656.0</td>\n",
       "      <td>762.0</td>\n",
       "      <td>5286.0</td>\n",
       "      <td>0.0</td>\n",
       "      <td>22/10/21 23:55</td>\n",
       "      <td>Set a reminder for my upcoming Space! https://...</td>\n",
       "      <td>['T20WorldCup', 'AUSvSA']</td>\n",
       "      <td>Twitter for Android</td>\n",
       "      <td>0.0</td>\n",
       "    </tr>\n",
       "    <tr>\n",
       "      <th>2</th>\n",
       "      <td>T20 World Cup</td>\n",
       "      <td>NaN</td>\n",
       "      <td>Official account of the ICC T20 World Cup. Men...</td>\n",
       "      <td>19/04/18 12:46</td>\n",
       "      <td>378202.0</td>\n",
       "      <td>1097.0</td>\n",
       "      <td>296.0</td>\n",
       "      <td>1.0</td>\n",
       "      <td>22/10/21 23:55</td>\n",
       "      <td>\"We just try to enjoy everything that we do.\"\\...</td>\n",
       "      <td>['WestIndies', 'T20WorldCup']</td>\n",
       "      <td>Khoros Publishing App</td>\n",
       "      <td>0.0</td>\n",
       "    </tr>\n",
       "    <tr>\n",
       "      <th>3</th>\n",
       "      <td>Farid Khan</td>\n",
       "      <td>Lahore, Pakistan</td>\n",
       "      <td>Journalist. Head of Digital Media @_cricingif ...</td>\n",
       "      <td>25/07/21 3:59</td>\n",
       "      <td>1125.0</td>\n",
       "      <td>424.0</td>\n",
       "      <td>56.0</td>\n",
       "      <td>0.0</td>\n",
       "      <td>22/10/21 23:54</td>\n",
       "      <td>#Pakistan and #India played each other in open...</td>\n",
       "      <td>['Pakistan', 'India', 'IND', 'T20WorldCup', 'NZ']</td>\n",
       "      <td>Twitter Web App</td>\n",
       "      <td>0.0</td>\n",
       "    </tr>\n",
       "    <tr>\n",
       "      <th>4</th>\n",
       "      <td>Bimal Mirwani</td>\n",
       "      <td>Hong Kong</td>\n",
       "      <td>I write all about Pakistan cricket on my site ...</td>\n",
       "      <td>01/03/14 20:41</td>\n",
       "      <td>742.0</td>\n",
       "      <td>1433.0</td>\n",
       "      <td>811.0</td>\n",
       "      <td>0.0</td>\n",
       "      <td>22/10/21 23:49</td>\n",
       "      <td>#Pakistan won't be much of a challenge for #In...</td>\n",
       "      <td>['Pakistan', 'India', 'Agarkar', 'AjitAgarkar'...</td>\n",
       "      <td>Twitter Web App</td>\n",
       "      <td>0.0</td>\n",
       "    </tr>\n",
       "  </tbody>\n",
       "</table>\n",
       "</div>"
      ],
      "text/plain": [
       "             user_name        user_location  \\\n",
       "0  Prabhudatta Nayak🇮🇳      Balangir, India   \n",
       "1     Archisman Mishra  Bhubaneshwar, India   \n",
       "2        T20 World Cup                  NaN   \n",
       "3           Farid Khan     Lahore, Pakistan   \n",
       "4        Bimal Mirwani            Hong Kong   \n",
       "\n",
       "                                    user_description    user_created  \\\n",
       "0  Proud to be an Indian ll #contestlover ll #bor...  21/05/10 11:05   \n",
       "1  RISING FROM THE ASHES ENGINEER,GAMER,FOODY,POK...  10/12/15 18:43   \n",
       "2  Official account of the ICC T20 World Cup. Men...  19/04/18 12:46   \n",
       "3  Journalist. Head of Digital Media @_cricingif ...   25/07/21 3:59   \n",
       "4  I write all about Pakistan cricket on my site ...  01/03/14 20:41   \n",
       "\n",
       "   user_followers  user_friends  user_favourites  user_verified  \\\n",
       "0           134.0         532.0           6625.0            0.0   \n",
       "1           656.0         762.0           5286.0            0.0   \n",
       "2        378202.0        1097.0            296.0            1.0   \n",
       "3          1125.0         424.0             56.0            0.0   \n",
       "4           742.0        1433.0            811.0            0.0   \n",
       "\n",
       "             date                                               text  \\\n",
       "0  22/10/21 23:55  @ManappuramMAFIL Done Team \\n@ManappuramMAFIL ...   \n",
       "1  22/10/21 23:55  Set a reminder for my upcoming Space! https://...   \n",
       "2  22/10/21 23:55  \"We just try to enjoy everything that we do.\"\\...   \n",
       "3  22/10/21 23:54  #Pakistan and #India played each other in open...   \n",
       "4  22/10/21 23:49  #Pakistan won't be much of a challenge for #In...   \n",
       "\n",
       "                                            hashtags                 source  \\\n",
       "0  ['GuessAndWin', 'T20WorldCup', 'Contest', 'Cri...    Twitter for Android   \n",
       "1                          ['T20WorldCup', 'AUSvSA']    Twitter for Android   \n",
       "2                      ['WestIndies', 'T20WorldCup']  Khoros Publishing App   \n",
       "3  ['Pakistan', 'India', 'IND', 'T20WorldCup', 'NZ']        Twitter Web App   \n",
       "4  ['Pakistan', 'India', 'Agarkar', 'AjitAgarkar'...        Twitter Web App   \n",
       "\n",
       "   is_retweet  \n",
       "0         0.0  \n",
       "1         0.0  \n",
       "2         0.0  \n",
       "3         0.0  \n",
       "4         0.0  "
      ]
     },
     "execution_count": 9,
     "metadata": {},
     "output_type": "execute_result"
    }
   ],
   "source": [
    "# Display the first few rows of the dataset\n",
    "data.head()"
   ]
  },
  {
   "cell_type": "code",
   "execution_count": 10,
   "id": "a476d8a8",
   "metadata": {},
   "outputs": [
    {
     "data": {
      "text/plain": [
       "(430383, 13)"
      ]
     },
     "execution_count": 10,
     "metadata": {},
     "output_type": "execute_result"
    }
   ],
   "source": [
    "data.shape"
   ]
  },
  {
   "cell_type": "code",
   "execution_count": 16,
   "id": "1a6d21f4",
   "metadata": {},
   "outputs": [
    {
     "name": "stdout",
     "output_type": "stream",
     "text": [
      "Twitter for Android         249644\n",
      "Twitter Web App              78241\n",
      "Twitter for iPhone           72881\n",
      "TweetDeck                    14258\n",
      "Twitter for Advertisers.      1924\n",
      "                             ...  \n",
      "Locobuzz CX                      1\n",
      "Business Upturn                  1\n",
      "GeekyHumans                      1\n",
      "Peeping Moon                     1\n",
      "PlayStation®Network              1\n",
      "Name: source, Length: 176, dtype: int64\n"
     ]
    }
   ],
   "source": [
    "value_counts_result = data['source'].value_counts()\n",
    "\n",
    "# Now you can use 'value_counts_result' as needed\n",
    "print(value_counts_result)"
   ]
  },
  {
   "cell_type": "code",
   "execution_count": 17,
   "id": "1d576221",
   "metadata": {},
   "outputs": [
    {
     "name": "stdout",
     "output_type": "stream",
     "text": [
      "Twitter for Android         249644\n",
      "Twitter Web App              78241\n",
      "Twitter for iPhone           72881\n",
      "TweetDeck                    14258\n",
      "Twitter for Advertisers.      1924\n",
      "Name: source, dtype: int64\n"
     ]
    }
   ],
   "source": [
    "value_counts_result = data['source'].value_counts()[0:5]\n",
    "\n",
    "# Now you can use 'value_counts_result' as needed\n",
    "print(value_counts_result)"
   ]
  },
  {
   "cell_type": "code",
   "execution_count": 18,
   "id": "1174503f",
   "metadata": {},
   "outputs": [
    {
     "name": "stdout",
     "output_type": "stream",
     "text": [
      "Twitter for Android         249644\n",
      "Twitter Web App              78241\n",
      "Twitter for iPhone           72881\n",
      "TweetDeck                    14258\n",
      "Twitter for Advertisers.      1924\n",
      "Twitter for iPad              1917\n",
      "IFTTT                         1607\n",
      "Twitter Media Studio          1190\n",
      "Hootsuite Inc.                1072\n",
      "Integromat                     786\n",
      "Khoros Publishing App          741\n",
      "Name: source, dtype: int64\n"
     ]
    }
   ],
   "source": [
    "value_counts_result = data['source'].value_counts()[0:11]\n",
    "\n",
    "# Now you can use 'value_counts_result' as needed\n",
    "print(value_counts_result)"
   ]
  },
  {
   "cell_type": "code",
   "execution_count": 22,
   "id": "b4194a4d",
   "metadata": {},
   "outputs": [
    {
     "name": "stdout",
     "output_type": "stream",
     "text": [
      "['Twitter for Android', 'Twitter Web App', 'Twitter for iPhone', 'TweetDeck', 'Twitter for Advertisers.', 'Twitter for iPad', 'IFTTT', 'Twitter Media Studio', 'Hootsuite Inc.', 'Integromat', 'Khoros Publishing App']\n"
     ]
    }
   ],
   "source": [
    "# Assuming 'data' is your pandas DataFrame\n",
    "list_sources = data['source'].value_counts().head(11).index.tolist()\n",
    "\n",
    "# Now 'top_sources' contains the unique values of the top 11 counts\n",
    "print(list_sources)\n"
   ]
  },
  {
   "cell_type": "code",
   "execution_count": 27,
   "id": "565b4981",
   "metadata": {},
   "outputs": [
    {
     "data": {
      "image/png": "[encoded data removed]",
      "text/plain": [
       "<Figure size 500x300 with 1 Axes>"
      ]
     },
     "metadata": {},
     "output_type": "display_data"
    }
   ],
   "source": [
    "plt.figure(figsize=(5, 3))\n",
    "data['source'].value_counts().head(11).plot(kind='bar')\n",
    "plt.title('Top 11 Tweet Sources')\n",
    "plt.xlabel('Source')\n",
    "plt.ylabel('Count')\n",
    "plt.show()"
   ]
  },
  {
   "cell_type": "code",
   "execution_count": 28,
   "id": "d07026a3",
   "metadata": {},
   "outputs": [
    {
     "name": "stdout",
     "output_type": "stream",
     "text": [
      "0.0    430379\n",
      "Name: is_retweet, dtype: int64\n"
     ]
    }
   ],
   "source": [
    "value_counts_result = data['is_retweet'].value_counts()\n",
    "\n",
    "# Now you can use 'value_counts_result' as needed\n",
    "print(value_counts_result)"
   ]
  },
  {
   "cell_type": "code",
   "execution_count": 30,
   "id": "05e5b615",
   "metadata": {},
   "outputs": [
    {
     "name": "stdout",
     "output_type": "stream",
     "text": [
      "['T20WorldCup']                                                                              68668\n",
      "['INDvPAK', 'T20WorldCup']                                                                    5787\n",
      "['PAKvAUS', 'T20WorldCup']                                                                    4410\n",
      "['MatchParty', 'Cricbuzz', 'INDvNZ', 'T20WorldCup']                                           3211\n",
      "['PAKVSAUS', 'T20WorldCup']                                                                   3162\n",
      "                                                                                             ...  \n",
      "['T20WorldCup', 'PNG', 'Super12', 'Bangladesh', 'Oman', 'Scotland', 'OMAvSCO', 'BANvPNG']        1\n",
      "['T20WorldCup', 'INDvsAUS', 'ViratKohli', 'RohitSharma']                                         1\n",
      "['PAK', 'PAKvSA', 'T20WorldCup', 'CricketTwitter']                                               1\n",
      "['cricket', 't20', 'T20WorldCup']                                                                1\n",
      "['83TheFilm', 'T20WorldCup', 'worldtestchampionship']                                            1\n",
      "Name: hashtags, Length: 130417, dtype: int64\n"
     ]
    }
   ],
   "source": [
    "value_counts_result = data['hashtags'].value_counts()\n",
    "\n",
    "# Now you can use 'value_counts_result' as needed\n",
    "print(value_counts_result)"
   ]
  },
  {
   "cell_type": "code",
   "execution_count": 32,
   "id": "97a8bd5c",
   "metadata": {},
   "outputs": [
    {
     "name": "stdout",
     "output_type": "stream",
     "text": [
      "@ranaomer's account has been withheld in India in response to a legal demand. Learn more.                                                                                                                                                                  70\n",
      "Well Paid India! Ooh i mean well Played 🙄🤪😜#T20WorldCup                                                                                                                                                                                                    56\n",
      "@I_am_Nauman_'s account has been withheld in India in response to a legal demand. Learn more.                                                                                                                                                              52\n",
      "When you're ready to lose the match but not your IPL contract - #Fixed\\n\\n#INDvsAFG #T20WorldCup                                                                                                                                                           46\n",
      "So irritating to watch our cricket players playing their roles so well in the ad films but playing so poorly on the field. Seems all of them want to make their careers as actors not as cricketers. #T20WorldCup #IndiaVsNewZealand                       36\n",
      "                                                                                                                                                                                                                                                           ..\n",
      "#SteveSmith was seen imitating #ViratKohli's bowling action after he surprisingly rolled his arm over during the warm-up game. \\n\\n#India #Australia #INDvAUS #T20WorldCup \\nhttps://t.co/bXAmemHjAa                                                        1\n",
      "Now with the ball\\n#T20WorldCup https://t.co/bN5eEzHx9j                                                                                                                                                                                                     1\n",
      "#TeamIndia's high-octane game against #Pakistan is all set to roll on October 24. This will be the first meeting between #INDvPAK in more than two years. #T20WorldCup  \\n\\n#LiveTheGame on DD Sports 📺(DD Free Dish &amp; DTT) https://t.co/xQCYEN858I     1\n",
      "West indies playing slowly on purpose so everyone will count them out and they will thrash everyone in original matches 😏 #westindies #T20WorldCup                                                                                                          1\n",
      "#83TheFilm #T20WorldCup\\n#worldtestchampionship\\nThe cup                      the cups\\nWe got.                    We wanted https://t.co/WljxzeFRaP                                                                                                        1\n",
      "Name: text, Length: 414941, dtype: int64\n"
     ]
    }
   ],
   "source": [
    "value_counts_result = data['text'].value_counts()\n",
    "\n",
    "# Now you can use 'value_counts_result' as needed\n",
    "print(value_counts_result)"
   ]
  },
  {
   "cell_type": "code",
   "execution_count": 33,
   "id": "3b158010",
   "metadata": {},
   "outputs": [
    {
     "name": "stdout",
     "output_type": "stream",
     "text": [
      "[\"['T20WorldCup']\", \"['INDvPAK', 'T20WorldCup']\", \"['PAKvAUS', 'T20WorldCup']\", \"['MatchParty', 'Cricbuzz', 'INDvNZ', 'T20WorldCup']\", \"['PAKVSAUS', 'T20WorldCup']\", \"['INDvsNZ', 'T20WorldCup']\", \"['T20WorldCup', 'INDvPAK']\", \"['T20WorldCup', 'PAKvAUS']\", \"['PakvsAfg', 'T20WorldCup']\", \"['INDvNZ', 'T20WorldCup']\", \"['ENGvsNZ', 'T20WorldCup']\"]\n"
     ]
    }
   ],
   "source": [
    "# Assuming 'data' is your pandas DataFrame\n",
    "list_sources = data['hashtags'].value_counts().head(11).index.tolist()\n",
    "\n",
    "# Now 'top_sources' contains the unique values of the top 11 counts\n",
    "print(list_sources)\n"
   ]
  },
  {
   "cell_type": "code",
   "execution_count": 36,
   "id": "a43d20b5",
   "metadata": {},
   "outputs": [
    {
     "name": "stdout",
     "output_type": "stream",
     "text": [
      "[\"@ranaomer's account has been withheld in India in response to a legal demand. Learn more.\", 'Well Paid India! Ooh i mean well Played 🙄🤪😜#T20WorldCup', \"@I_am_Nauman_'s account has been withheld in India in response to a legal demand. Learn more.\", \"When you're ready to lose the match but not your IPL contract - #Fixed\\n\\n#INDvsAFG #T20WorldCup\", 'So irritating to watch our cricket players playing their roles so well in the ad films but playing so poorly on the field. Seems all of them want to make their careers as actors not as cricketers. #T20WorldCup #IndiaVsNewZealand', '@OPPOIndia Majestic Cheers \\n\\n#LightUpTheGame #INDvPAK\\n#T20WorldCup\\n\\n@OPPOIndia', '@OPPOIndia Glowing Excitement\\n\\n#LightUpTheGame \\n#T20WorldCup \\n@OPPOIndia', 'India deliberately lost to England in World Cup 2019 &amp; prevented #Pakistan from reaching the semi-finals. Today #Afghanistan is deliberately losing to #India in a #fixed match to help them reaching semifinals. It is always India who fixes sports. #INDvsAFG #T20WorldCup #ICC #BCCI', \"@sadafnawaid's account has been withheld in India in response to a legal demand. Learn more.\", \"@KashmirWatch's account has been withheld in India in response to a legal demand. Learn more.\", 'Congratulations Pakistan!!!! The first team that qualified for the Semifinals of #T20WorldCup. My country is still on the top of the table...  #PAKvsNAM #PakistanZindabad 🇵🇰🇵🇰🇵🇰🇵🇰']\n"
     ]
    }
   ],
   "source": [
    "# Assuming 'data' is your pandas DataFrame\n",
    "list_sources = data['text'].value_counts().head(11).index.tolist()\n",
    "\n",
    "# Now 'top_sources' contains the unique values of the top 11 counts\n",
    "print(list_sources)\n"
   ]
  },
  {
   "cell_type": "code",
   "execution_count": null,
   "id": "4cc2b22b",
   "metadata": {},
   "outputs": [],
   "source": []
  }
 ],
 "metadata": {
  "kernelspec": {
   "display_name": "Python 3 (ipykernel)",
   "language": "python",
   "name": "python3"
  },
  "language_info": {
   "codemirror_mode": {
    "name": "ipython",
    "version": 3
   },
   "file_extension": ".py",
   "mimetype": "text/x-python",
   "name": "python",
   "nbconvert_exporter": "python",
   "pygments_lexer": "ipython3",
   "version": "3.9.13"
  }
 },
 "nbformat": 4,
 "nbformat_minor": 5
}
