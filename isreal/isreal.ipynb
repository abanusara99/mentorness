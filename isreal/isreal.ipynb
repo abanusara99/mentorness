{
 "cells": [
  {
   "cell_type": "markdown",
   "id": "ee9cde97",
   "metadata": {},
   "source": [
    "# import the  code "
   ]
  },
  {
   "cell_type": "code",
   "execution_count": 17,
   "id": "53475817",
   "metadata": {},
   "outputs": [],
   "source": [
    "import numpy as np\n",
    "import pandas as pd\n",
    "from matplotlib import pyplot as plt\n",
    "import seaborn as sms"
   ]
  },
  {
   "cell_type": "code",
   "execution_count": 21,
   "id": "eeb89002",
   "metadata": {},
   "outputs": [],
   "source": [
    "data = pd.read_excel('pls_isl_conflict_comments.xlsx')"
   ]
  },
  {
   "cell_type": "code",
   "execution_count": 23,
   "id": "708150cb",
   "metadata": {},
   "outputs": [
    {
     "name": "stdout",
     "output_type": "stream",
     "text": [
      "<class 'pandas.core.frame.DataFrame'>\n",
      "RangeIndex: 190211 entries, 0 to 190210\n",
      "Columns: 112 entries, comment_id to Unnamed: 111\n",
      "dtypes: float64(96), object(16)\n",
      "memory usage: 162.5+ MB\n"
     ]
    }
   ],
   "source": [
    "# Display basic information about the dataset\n",
    "data.info()"
   ]
  },
  {
   "cell_type": "code",
   "execution_count": 24,
   "id": "a087a675",
   "metadata": {},
   "outputs": [
    {
     "data": {
      "text/html": [
       "<div>\n",
       "<style scoped>\n",
       "    .dataframe tbody tr th:only-of-type {\n",
       "        vertical-align: middle;\n",
       "    }\n",
       "\n",
       "    .dataframe tbody tr th {\n",
       "        vertical-align: top;\n",
       "    }\n",
       "\n",
       "    .dataframe thead th {\n",
       "        text-align: right;\n",
       "    }\n",
       "</style>\n",
       "<table border=\"1\" class=\"dataframe\">\n",
       "  <thead>\n",
       "    <tr style=\"text-align: right;\">\n",
       "      <th></th>\n",
       "      <th>comment_id</th>\n",
       "      <th>score</th>\n",
       "      <th>self_text</th>\n",
       "      <th>subreddit</th>\n",
       "      <th>created_time</th>\n",
       "      <th>Unnamed: 5</th>\n",
       "      <th>Unnamed: 6</th>\n",
       "      <th>Unnamed: 7</th>\n",
       "      <th>Unnamed: 8</th>\n",
       "      <th>Unnamed: 9</th>\n",
       "      <th>...</th>\n",
       "      <th>Unnamed: 102</th>\n",
       "      <th>Unnamed: 103</th>\n",
       "      <th>Unnamed: 104</th>\n",
       "      <th>Unnamed: 105</th>\n",
       "      <th>Unnamed: 106</th>\n",
       "      <th>Unnamed: 107</th>\n",
       "      <th>Unnamed: 108</th>\n",
       "      <th>Unnamed: 109</th>\n",
       "      <th>Unnamed: 110</th>\n",
       "      <th>Unnamed: 111</th>\n",
       "    </tr>\n",
       "  </thead>\n",
       "  <tbody>\n",
       "    <tr>\n",
       "      <th>0</th>\n",
       "      <td>k5480sx</td>\n",
       "      <td>1</td>\n",
       "      <td>Exactly! I can remember the humanitarian aid s...</td>\n",
       "      <td>worldnews</td>\n",
       "      <td>45215.81875</td>\n",
       "      <td>NaN</td>\n",
       "      <td>NaN</td>\n",
       "      <td>NaN</td>\n",
       "      <td>NaN</td>\n",
       "      <td>NaN</td>\n",
       "      <td>...</td>\n",
       "      <td>NaN</td>\n",
       "      <td>NaN</td>\n",
       "      <td>NaN</td>\n",
       "      <td>NaN</td>\n",
       "      <td>NaN</td>\n",
       "      <td>NaN</td>\n",
       "      <td>NaN</td>\n",
       "      <td>NaN</td>\n",
       "      <td>NaN</td>\n",
       "      <td>NaN</td>\n",
       "    </tr>\n",
       "    <tr>\n",
       "      <th>1</th>\n",
       "      <td>k547q14</td>\n",
       "      <td>1</td>\n",
       "      <td>*We are the only part of the World that has Fr...</td>\n",
       "      <td>Palestine</td>\n",
       "      <td>45215.816667</td>\n",
       "      <td>NaN</td>\n",
       "      <td>NaN</td>\n",
       "      <td>NaN</td>\n",
       "      <td>NaN</td>\n",
       "      <td>NaN</td>\n",
       "      <td>...</td>\n",
       "      <td>NaN</td>\n",
       "      <td>NaN</td>\n",
       "      <td>NaN</td>\n",
       "      <td>NaN</td>\n",
       "      <td>NaN</td>\n",
       "      <td>NaN</td>\n",
       "      <td>NaN</td>\n",
       "      <td>NaN</td>\n",
       "      <td>NaN</td>\n",
       "      <td>NaN</td>\n",
       "    </tr>\n",
       "    <tr>\n",
       "      <th>2</th>\n",
       "      <td>k547elf</td>\n",
       "      <td>1</td>\n",
       "      <td>I don_x0019_t make Israeli strategy, nor am I ...</td>\n",
       "      <td>worldnews</td>\n",
       "      <td>45215.815278</td>\n",
       "      <td>NaN</td>\n",
       "      <td>NaN</td>\n",
       "      <td>NaN</td>\n",
       "      <td>NaN</td>\n",
       "      <td>NaN</td>\n",
       "      <td>...</td>\n",
       "      <td>NaN</td>\n",
       "      <td>NaN</td>\n",
       "      <td>NaN</td>\n",
       "      <td>NaN</td>\n",
       "      <td>NaN</td>\n",
       "      <td>NaN</td>\n",
       "      <td>NaN</td>\n",
       "      <td>NaN</td>\n",
       "      <td>NaN</td>\n",
       "      <td>NaN</td>\n",
       "    </tr>\n",
       "    <tr>\n",
       "      <th>3</th>\n",
       "      <td>k54742r</td>\n",
       "      <td>1</td>\n",
       "      <td>These people didn't vote Hamas in or something...</td>\n",
       "      <td>worldnews</td>\n",
       "      <td>45215.813889</td>\n",
       "      <td>NaN</td>\n",
       "      <td>NaN</td>\n",
       "      <td>NaN</td>\n",
       "      <td>NaN</td>\n",
       "      <td>NaN</td>\n",
       "      <td>...</td>\n",
       "      <td>NaN</td>\n",
       "      <td>NaN</td>\n",
       "      <td>NaN</td>\n",
       "      <td>NaN</td>\n",
       "      <td>NaN</td>\n",
       "      <td>NaN</td>\n",
       "      <td>NaN</td>\n",
       "      <td>NaN</td>\n",
       "      <td>NaN</td>\n",
       "      <td>NaN</td>\n",
       "    </tr>\n",
       "    <tr>\n",
       "      <th>4</th>\n",
       "      <td>k5473zi</td>\n",
       "      <td>1</td>\n",
       "      <td>We don't care what you do. We just want to liv...</td>\n",
       "      <td>worldnews</td>\n",
       "      <td>45215.813889</td>\n",
       "      <td>NaN</td>\n",
       "      <td>NaN</td>\n",
       "      <td>NaN</td>\n",
       "      <td>NaN</td>\n",
       "      <td>NaN</td>\n",
       "      <td>...</td>\n",
       "      <td>NaN</td>\n",
       "      <td>NaN</td>\n",
       "      <td>NaN</td>\n",
       "      <td>NaN</td>\n",
       "      <td>NaN</td>\n",
       "      <td>NaN</td>\n",
       "      <td>NaN</td>\n",
       "      <td>NaN</td>\n",
       "      <td>NaN</td>\n",
       "      <td>NaN</td>\n",
       "    </tr>\n",
       "  </tbody>\n",
       "</table>\n",
       "<p>5 rows × 112 columns</p>\n",
       "</div>"
      ],
      "text/plain": [
       "  comment_id score                                          self_text  \\\n",
       "0    k5480sx     1  Exactly! I can remember the humanitarian aid s...   \n",
       "1    k547q14     1  *We are the only part of the World that has Fr...   \n",
       "2    k547elf     1  I don_x0019_t make Israeli strategy, nor am I ...   \n",
       "3    k54742r     1  These people didn't vote Hamas in or something...   \n",
       "4    k5473zi     1  We don't care what you do. We just want to liv...   \n",
       "\n",
       "   subreddit  created_time Unnamed: 5 Unnamed: 6 Unnamed: 7 Unnamed: 8  \\\n",
       "0  worldnews   45215.81875        NaN        NaN        NaN        NaN   \n",
       "1  Palestine  45215.816667        NaN        NaN        NaN        NaN   \n",
       "2  worldnews  45215.815278        NaN        NaN        NaN        NaN   \n",
       "3  worldnews  45215.813889        NaN        NaN        NaN        NaN   \n",
       "4  worldnews  45215.813889        NaN        NaN        NaN        NaN   \n",
       "\n",
       "  Unnamed: 9  ... Unnamed: 102 Unnamed: 103 Unnamed: 104 Unnamed: 105  \\\n",
       "0        NaN  ...          NaN          NaN          NaN          NaN   \n",
       "1        NaN  ...          NaN          NaN          NaN          NaN   \n",
       "2        NaN  ...          NaN          NaN          NaN          NaN   \n",
       "3        NaN  ...          NaN          NaN          NaN          NaN   \n",
       "4        NaN  ...          NaN          NaN          NaN          NaN   \n",
       "\n",
       "  Unnamed: 106  Unnamed: 107  Unnamed: 108  Unnamed: 109  Unnamed: 110  \\\n",
       "0          NaN           NaN           NaN           NaN           NaN   \n",
       "1          NaN           NaN           NaN           NaN           NaN   \n",
       "2          NaN           NaN           NaN           NaN           NaN   \n",
       "3          NaN           NaN           NaN           NaN           NaN   \n",
       "4          NaN           NaN           NaN           NaN           NaN   \n",
       "\n",
       "   Unnamed: 111  \n",
       "0           NaN  \n",
       "1           NaN  \n",
       "2           NaN  \n",
       "3           NaN  \n",
       "4           NaN  \n",
       "\n",
       "[5 rows x 112 columns]"
      ]
     },
     "execution_count": 24,
     "metadata": {},
     "output_type": "execute_result"
    }
   ],
   "source": [
    "# Display the first few rows of the dataset\n",
    "data.head()"
   ]
  },
  {
   "cell_type": "code",
   "execution_count": 25,
   "id": "a476d8a8",
   "metadata": {},
   "outputs": [
    {
     "data": {
      "text/plain": [
       "(190211, 112)"
      ]
     },
     "execution_count": 25,
     "metadata": {},
     "output_type": "execute_result"
    }
   ],
   "source": [
    "data.shape"
   ]
  },
  {
   "cell_type": "code",
   "execution_count": 26,
   "id": "1a6d21f4",
   "metadata": {},
   "outputs": [
    {
     "name": "stdout",
     "output_type": "stream",
     "text": [
      "IsraelPalestine                                                  52533\n",
      "worldnews                                                        36179\n",
      "AskMiddleEast                                                    28047\n",
      "CombatFootage                                                    27865\n",
      "PublicFreakout                                                   14237\n",
      "                                                                 ...  \n",
      "1947                                                                 1\n",
      ") 5-=-=-=-                                                           1\n",
      "45214.0666666667                                                     1\n",
      "'/D 9DI 1J/* E9 HD'/ 'DCD() (BI  E4 9'1A EJF E9'G HEJF E9'GE.        1\n",
      " when in reality                                                     1\n",
      "Name: subreddit, Length: 85, dtype: int64\n"
     ]
    }
   ],
   "source": [
    "value_counts_result = data['subreddit'].value_counts()\n",
    "\n",
    "# Now you can use 'value_counts_result' as needed\n",
    "print(value_counts_result)"
   ]
  },
  {
   "cell_type": "code",
   "execution_count": 27,
   "id": "1d576221",
   "metadata": {},
   "outputs": [
    {
     "name": "stdout",
     "output_type": "stream",
     "text": [
      "IsraelPalestine    52533\n",
      "worldnews          36179\n",
      "AskMiddleEast      28047\n",
      "CombatFootage      27865\n",
      "PublicFreakout     14237\n",
      "Name: subreddit, dtype: int64\n"
     ]
    }
   ],
   "source": [
    "value_counts_result = data['subreddit'].value_counts()[0:5]\n",
    "\n",
    "# Now you can use 'value_counts_result' as needed\n",
    "print(value_counts_result)"
   ]
  },
  {
   "cell_type": "code",
   "execution_count": 28,
   "id": "1174503f",
   "metadata": {},
   "outputs": [
    {
     "name": "stdout",
     "output_type": "stream",
     "text": [
      "IsraelPalestine          52533\n",
      "worldnews                36179\n",
      "AskMiddleEast            28047\n",
      "CombatFootage            27865\n",
      "PublicFreakout           14237\n",
      "NonCredibleDefense       13854\n",
      "Palestine                 6929\n",
      "worldnewsvideo            5583\n",
      "IsrealPalestineWar_23     2525\n",
      "TerrifyingAsFuck           546\n",
      "NoahGetTheBoat             497\n",
      "Name: subreddit, dtype: int64\n"
     ]
    }
   ],
   "source": [
    "value_counts_result = data['subreddit'].value_counts()[0:11]\n",
    "\n",
    "# Now you can use 'value_counts_result' as needed\n",
    "print(value_counts_result)"
   ]
  },
  {
   "cell_type": "code",
   "execution_count": 29,
   "id": "b4194a4d",
   "metadata": {},
   "outputs": [
    {
     "name": "stdout",
     "output_type": "stream",
     "text": [
      "['IsraelPalestine', 'worldnews', 'AskMiddleEast', 'CombatFootage', 'PublicFreakout', 'NonCredibleDefense', 'Palestine', 'worldnewsvideo', 'IsrealPalestineWar_23', 'TerrifyingAsFuck', 'NoahGetTheBoat']\n"
     ]
    }
   ],
   "source": [
    "# Assuming 'data' is your pandas DataFrame\n",
    "list_sources = data['subreddit'].value_counts().head(11).index.tolist()\n",
    "\n",
    "# Now 'top_sources' contains the unique values of the top 11 counts\n",
    "print(list_sources)\n"
   ]
  },
  {
   "cell_type": "code",
   "execution_count": 30,
   "id": "565b4981",
   "metadata": {},
   "outputs": [
    {
     "data": {
      "image/png": "[encoded data removed]",
      "text/plain": [
       "<Figure size 500x300 with 1 Axes>"
      ]
     },
     "metadata": {},
     "output_type": "display_data"
    }
   ],
   "source": [
    "plt.figure(figsize=(5, 3))\n",
    "data['subreddit'].value_counts().head(11).plot(kind='bar')\n",
    "plt.title('Isreal sentiment analysis ')\n",
    "plt.xlabel('Subreddit')\n",
    "plt.ylabel('Count')\n",
    "plt.show()"
   ]
  },
  {
   "cell_type": "code",
   "execution_count": 36,
   "id": "4cc2b22b",
   "metadata": {},
   "outputs": [
    {
     "data": {
      "image/png": "[encoded data removed]",
      "text/plain": [
       "<Figure size 800x500 with 1 Axes>"
      ]
     },
     "metadata": {},
     "output_type": "display_data"
    }
   ],
   "source": [
    "top_subreddits = data[['subreddit', 'score']].head(5)\n",
    "\n",
    "plt.figure(figsize=(8, 5))\n",
    "plt.bar(top_subreddits['subreddit'], top_subreddits['score'], color=[\"blue\", \"green\", \"red\", \"pink\", \"orange\"])\n",
    "plt.xlabel('Subreddit')\n",
    "plt.ylabel('score')\n",
    "plt.title('Top 5 Subreddits')\n",
    "plt.show()"
   ]
  },
  {
   "cell_type": "code",
   "execution_count": null,
   "id": "e8235a9e",
   "metadata": {},
   "outputs": [],
   "source": []
  }
 ],
 "metadata": {
  "kernelspec": {
   "display_name": "Python 3 (ipykernel)",
   "language": "python",
   "name": "python3"
  },
  "language_info": {
   "codemirror_mode": {
    "name": "ipython",
    "version": 3
   },
   "file_extension": ".py",
   "mimetype": "text/x-python",
   "name": "python",
   "nbconvert_exporter": "python",
   "pygments_lexer": "ipython3",
   "version": "3.9.13"
  }
 },
 "nbformat": 4,
 "nbformat_minor": 5
}
